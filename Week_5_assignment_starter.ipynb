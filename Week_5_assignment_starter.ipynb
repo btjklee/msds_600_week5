{
 "cells": [
  {
   "cell_type": "markdown",
   "id": "165166dd",
   "metadata": {},
   "source": [
    "# DS Automation Assignment"
   ]
  },
  {
   "cell_type": "markdown",
   "id": "c195af74",
   "metadata": {},
   "source": [
    "Using our prepared churn data from week 2:\n",
    "- use pycaret to find an ML algorithm that performs best on the data\n",
    "    - Choose a metric you think is best to use for finding the best model; by default, it is accuracy but it could be AUC, precision, recall, etc. The week 3 FTE has some information on these different metrics.\n",
    "- save the model to disk\n",
    "- create a Python script/file/module with a function that takes a pandas dataframe as an input and returns the probability of churn for each row in the dataframe\n",
    "    - your Python file/function should print out the predictions for new data (new_churn_data.csv)\n",
    "    - the true values for the new data are [1, 0, 0, 1, 0] if you're interested\n",
    "- test your Python module and function with the new data, new_churn_data.csv\n",
    "- write a short summary of the process and results at the end of this notebook\n",
    "- upload this Jupyter Notebook and Python file to a Github repository, and turn in a link to the repository in the week 5 assignment dropbox\n",
    "\n",
    "*Optional* challenges:\n",
    "- return the probability of churn for each new prediction, and the percentile where that prediction is in the distribution of probability predictions from the training dataset (e.g. a high probability of churn like 0.78 might be at the 90th percentile)\n",
    "- use other autoML packages, such as TPOT, H2O, MLBox, etc, and compare performance and features with pycaret\n",
    "- create a class in your Python module to hold the functions that you created\n",
    "- accept user input to specify a file using a tool such as Python's `input()` function, the `click` package for command-line arguments, or a GUI\n",
    "- Use the unmodified churn data (new_unmodified_churn_data.csv) in your Python script. This will require adding the same preprocessing steps from week 2 since this data is like the original unmodified dataset from week 1."
   ]
  },
  {
   "cell_type": "code",
   "execution_count": 122,
   "id": "3da96a4a",
   "metadata": {},
   "outputs": [
    {
     "name": "stdout",
     "output_type": "stream",
     "text": [
      "   tenure  PhoneService  Contract  PaymentMethod  MonthlyCharges  \\\n",
      "0       1             0         0              2           29.85   \n",
      "1      34             1         1              3           56.95   \n",
      "2       2             1         0              3           53.85   \n",
      "3      45             0         1              0           42.30   \n",
      "4       2             1         0              2           70.70   \n",
      "\n",
      "   TotalCharges  Churn  TotalCharges_to_tenure  \n",
      "0         29.85      0               29.850000  \n",
      "1       1889.50      0               55.573529  \n",
      "2        108.15      1               54.075000  \n",
      "3       1840.75      0               40.905556  \n",
      "4        151.65      1               75.825000  \n"
     ]
    }
   ],
   "source": [
    "import pandas as pd\n",
    "import numpy as np\n",
    "from pycaret.classification import predict_model, ClassificationExperiment, load_model\n",
    "\n",
    "\n",
    "# Replace 'path_to_csv' with the actual file path to your CSV file\n",
    "file_path = 'C:/Users/btjkl/Downloads/clean_churn_data.csv'\n",
    "\n",
    "# Load the data into a Pandas DataFrame\n",
    "df = pd.read_csv(file_path)\n",
    "\n",
    "# Drop the 'customerID' column\n",
    "df = df.drop(columns=[\"customerID\"])\n",
    "\n",
    "# Convert any potential infinite values or NaNs to a finite number (e.g., 0)\n",
    "df.replace([np.inf, -np.inf], np.nan, inplace=True)\n",
    "df.fillna(0, inplace=True)\n",
    "\n",
    "# Display the first few rows of the DataFrame to verify the data loading\n",
    "print(df.head())\n"
   ]
  },
  {
   "cell_type": "code",
   "execution_count": 123,
   "id": "50a33000",
   "metadata": {},
   "outputs": [],
   "source": [
    "from pycaret.classification import ClassificationExperiment #setup, compare_models, predict_model, save_model, load_model"
   ]
  },
  {
   "cell_type": "code",
   "execution_count": 124,
   "id": "c78b9b3a",
   "metadata": {},
   "outputs": [],
   "source": [
    "automl = ClassificationExperiment() #setup(df, target='Churn')"
   ]
  },
  {
   "cell_type": "code",
   "execution_count": 125,
   "id": "7c604dd0",
   "metadata": {},
   "outputs": [
    {
     "data": {
      "text/html": [
       "<style type=\"text/css\">\n",
       "#T_ad3f0_row8_col1 {\n",
       "  background-color: lightgreen;\n",
       "}\n",
       "</style>\n",
       "<table id=\"T_ad3f0\">\n",
       "  <thead>\n",
       "    <tr>\n",
       "      <th class=\"blank level0\" >&nbsp;</th>\n",
       "      <th id=\"T_ad3f0_level0_col0\" class=\"col_heading level0 col0\" >Description</th>\n",
       "      <th id=\"T_ad3f0_level0_col1\" class=\"col_heading level0 col1\" >Value</th>\n",
       "    </tr>\n",
       "  </thead>\n",
       "  <tbody>\n",
       "    <tr>\n",
       "      <th id=\"T_ad3f0_level0_row0\" class=\"row_heading level0 row0\" >0</th>\n",
       "      <td id=\"T_ad3f0_row0_col0\" class=\"data row0 col0\" >Session id</td>\n",
       "      <td id=\"T_ad3f0_row0_col1\" class=\"data row0 col1\" >2014</td>\n",
       "    </tr>\n",
       "    <tr>\n",
       "      <th id=\"T_ad3f0_level0_row1\" class=\"row_heading level0 row1\" >1</th>\n",
       "      <td id=\"T_ad3f0_row1_col0\" class=\"data row1 col0\" >Target</td>\n",
       "      <td id=\"T_ad3f0_row1_col1\" class=\"data row1 col1\" >Churn</td>\n",
       "    </tr>\n",
       "    <tr>\n",
       "      <th id=\"T_ad3f0_level0_row2\" class=\"row_heading level0 row2\" >2</th>\n",
       "      <td id=\"T_ad3f0_row2_col0\" class=\"data row2 col0\" >Target type</td>\n",
       "      <td id=\"T_ad3f0_row2_col1\" class=\"data row2 col1\" >Binary</td>\n",
       "    </tr>\n",
       "    <tr>\n",
       "      <th id=\"T_ad3f0_level0_row3\" class=\"row_heading level0 row3\" >3</th>\n",
       "      <td id=\"T_ad3f0_row3_col0\" class=\"data row3 col0\" >Original data shape</td>\n",
       "      <td id=\"T_ad3f0_row3_col1\" class=\"data row3 col1\" >(7043, 8)</td>\n",
       "    </tr>\n",
       "    <tr>\n",
       "      <th id=\"T_ad3f0_level0_row4\" class=\"row_heading level0 row4\" >4</th>\n",
       "      <td id=\"T_ad3f0_row4_col0\" class=\"data row4 col0\" >Transformed data shape</td>\n",
       "      <td id=\"T_ad3f0_row4_col1\" class=\"data row4 col1\" >(7043, 8)</td>\n",
       "    </tr>\n",
       "    <tr>\n",
       "      <th id=\"T_ad3f0_level0_row5\" class=\"row_heading level0 row5\" >5</th>\n",
       "      <td id=\"T_ad3f0_row5_col0\" class=\"data row5 col0\" >Transformed train set shape</td>\n",
       "      <td id=\"T_ad3f0_row5_col1\" class=\"data row5 col1\" >(4930, 8)</td>\n",
       "    </tr>\n",
       "    <tr>\n",
       "      <th id=\"T_ad3f0_level0_row6\" class=\"row_heading level0 row6\" >6</th>\n",
       "      <td id=\"T_ad3f0_row6_col0\" class=\"data row6 col0\" >Transformed test set shape</td>\n",
       "      <td id=\"T_ad3f0_row6_col1\" class=\"data row6 col1\" >(2113, 8)</td>\n",
       "    </tr>\n",
       "    <tr>\n",
       "      <th id=\"T_ad3f0_level0_row7\" class=\"row_heading level0 row7\" >7</th>\n",
       "      <td id=\"T_ad3f0_row7_col0\" class=\"data row7 col0\" >Numeric features</td>\n",
       "      <td id=\"T_ad3f0_row7_col1\" class=\"data row7 col1\" >7</td>\n",
       "    </tr>\n",
       "    <tr>\n",
       "      <th id=\"T_ad3f0_level0_row8\" class=\"row_heading level0 row8\" >8</th>\n",
       "      <td id=\"T_ad3f0_row8_col0\" class=\"data row8 col0\" >Preprocess</td>\n",
       "      <td id=\"T_ad3f0_row8_col1\" class=\"data row8 col1\" >True</td>\n",
       "    </tr>\n",
       "    <tr>\n",
       "      <th id=\"T_ad3f0_level0_row9\" class=\"row_heading level0 row9\" >9</th>\n",
       "      <td id=\"T_ad3f0_row9_col0\" class=\"data row9 col0\" >Imputation type</td>\n",
       "      <td id=\"T_ad3f0_row9_col1\" class=\"data row9 col1\" >simple</td>\n",
       "    </tr>\n",
       "    <tr>\n",
       "      <th id=\"T_ad3f0_level0_row10\" class=\"row_heading level0 row10\" >10</th>\n",
       "      <td id=\"T_ad3f0_row10_col0\" class=\"data row10 col0\" >Numeric imputation</td>\n",
       "      <td id=\"T_ad3f0_row10_col1\" class=\"data row10 col1\" >mean</td>\n",
       "    </tr>\n",
       "    <tr>\n",
       "      <th id=\"T_ad3f0_level0_row11\" class=\"row_heading level0 row11\" >11</th>\n",
       "      <td id=\"T_ad3f0_row11_col0\" class=\"data row11 col0\" >Categorical imputation</td>\n",
       "      <td id=\"T_ad3f0_row11_col1\" class=\"data row11 col1\" >mode</td>\n",
       "    </tr>\n",
       "    <tr>\n",
       "      <th id=\"T_ad3f0_level0_row12\" class=\"row_heading level0 row12\" >12</th>\n",
       "      <td id=\"T_ad3f0_row12_col0\" class=\"data row12 col0\" >Fold Generator</td>\n",
       "      <td id=\"T_ad3f0_row12_col1\" class=\"data row12 col1\" >StratifiedKFold</td>\n",
       "    </tr>\n",
       "    <tr>\n",
       "      <th id=\"T_ad3f0_level0_row13\" class=\"row_heading level0 row13\" >13</th>\n",
       "      <td id=\"T_ad3f0_row13_col0\" class=\"data row13 col0\" >Fold Number</td>\n",
       "      <td id=\"T_ad3f0_row13_col1\" class=\"data row13 col1\" >10</td>\n",
       "    </tr>\n",
       "    <tr>\n",
       "      <th id=\"T_ad3f0_level0_row14\" class=\"row_heading level0 row14\" >14</th>\n",
       "      <td id=\"T_ad3f0_row14_col0\" class=\"data row14 col0\" >CPU Jobs</td>\n",
       "      <td id=\"T_ad3f0_row14_col1\" class=\"data row14 col1\" >-1</td>\n",
       "    </tr>\n",
       "    <tr>\n",
       "      <th id=\"T_ad3f0_level0_row15\" class=\"row_heading level0 row15\" >15</th>\n",
       "      <td id=\"T_ad3f0_row15_col0\" class=\"data row15 col0\" >Use GPU</td>\n",
       "      <td id=\"T_ad3f0_row15_col1\" class=\"data row15 col1\" >False</td>\n",
       "    </tr>\n",
       "    <tr>\n",
       "      <th id=\"T_ad3f0_level0_row16\" class=\"row_heading level0 row16\" >16</th>\n",
       "      <td id=\"T_ad3f0_row16_col0\" class=\"data row16 col0\" >Log Experiment</td>\n",
       "      <td id=\"T_ad3f0_row16_col1\" class=\"data row16 col1\" >False</td>\n",
       "    </tr>\n",
       "    <tr>\n",
       "      <th id=\"T_ad3f0_level0_row17\" class=\"row_heading level0 row17\" >17</th>\n",
       "      <td id=\"T_ad3f0_row17_col0\" class=\"data row17 col0\" >Experiment Name</td>\n",
       "      <td id=\"T_ad3f0_row17_col1\" class=\"data row17 col1\" >clf-default-name</td>\n",
       "    </tr>\n",
       "    <tr>\n",
       "      <th id=\"T_ad3f0_level0_row18\" class=\"row_heading level0 row18\" >18</th>\n",
       "      <td id=\"T_ad3f0_row18_col0\" class=\"data row18 col0\" >USI</td>\n",
       "      <td id=\"T_ad3f0_row18_col1\" class=\"data row18 col1\" >ab9f</td>\n",
       "    </tr>\n",
       "  </tbody>\n",
       "</table>\n"
      ],
      "text/plain": [
       "<pandas.io.formats.style.Styler at 0x1a887130eb0>"
      ]
     },
     "metadata": {},
     "output_type": "display_data"
    },
    {
     "data": {
      "text/plain": [
       "<pycaret.classification.oop.ClassificationExperiment at 0x1a8884840a0>"
      ]
     },
     "execution_count": 125,
     "metadata": {},
     "output_type": "execute_result"
    }
   ],
   "source": [
    "automl.setup(df, target='Churn')"
   ]
  },
  {
   "cell_type": "code",
   "execution_count": 126,
   "id": "dad53f0b",
   "metadata": {},
   "outputs": [
    {
     "data": {
      "text/plain": [
       "<pycaret.classification.oop.ClassificationExperiment at 0x1a8884840a0>"
      ]
     },
     "execution_count": 126,
     "metadata": {},
     "output_type": "execute_result"
    }
   ],
   "source": [
    "automl"
   ]
  },
  {
   "cell_type": "code",
   "execution_count": 127,
   "id": "1b64aa5b",
   "metadata": {},
   "outputs": [
    {
     "data": {
      "text/html": [],
      "text/plain": [
       "<IPython.core.display.HTML object>"
      ]
     },
     "metadata": {},
     "output_type": "display_data"
    },
    {
     "data": {
      "text/html": [
       "<style type=\"text/css\">\n",
       "#T_efcd9 th {\n",
       "  text-align: left;\n",
       "}\n",
       "#T_efcd9_row0_col0, #T_efcd9_row0_col3, #T_efcd9_row0_col5, #T_efcd9_row0_col7, #T_efcd9_row1_col0, #T_efcd9_row1_col1, #T_efcd9_row1_col2, #T_efcd9_row1_col3, #T_efcd9_row1_col4, #T_efcd9_row1_col5, #T_efcd9_row1_col6, #T_efcd9_row1_col7, #T_efcd9_row2_col0, #T_efcd9_row2_col1, #T_efcd9_row2_col2, #T_efcd9_row2_col3, #T_efcd9_row2_col4, #T_efcd9_row2_col5, #T_efcd9_row2_col6, #T_efcd9_row2_col7, #T_efcd9_row3_col0, #T_efcd9_row3_col1, #T_efcd9_row3_col2, #T_efcd9_row3_col3, #T_efcd9_row3_col4, #T_efcd9_row3_col5, #T_efcd9_row3_col6, #T_efcd9_row3_col7, #T_efcd9_row4_col0, #T_efcd9_row4_col1, #T_efcd9_row4_col2, #T_efcd9_row4_col3, #T_efcd9_row4_col4, #T_efcd9_row4_col5, #T_efcd9_row4_col6, #T_efcd9_row4_col7, #T_efcd9_row5_col0, #T_efcd9_row5_col1, #T_efcd9_row5_col2, #T_efcd9_row5_col3, #T_efcd9_row5_col4, #T_efcd9_row5_col5, #T_efcd9_row5_col6, #T_efcd9_row5_col7, #T_efcd9_row6_col0, #T_efcd9_row6_col1, #T_efcd9_row6_col2, #T_efcd9_row6_col3, #T_efcd9_row6_col4, #T_efcd9_row6_col5, #T_efcd9_row6_col6, #T_efcd9_row6_col7, #T_efcd9_row7_col0, #T_efcd9_row7_col1, #T_efcd9_row7_col2, #T_efcd9_row7_col3, #T_efcd9_row7_col4, #T_efcd9_row7_col5, #T_efcd9_row7_col6, #T_efcd9_row7_col7, #T_efcd9_row8_col0, #T_efcd9_row8_col1, #T_efcd9_row8_col2, #T_efcd9_row8_col3, #T_efcd9_row8_col4, #T_efcd9_row8_col5, #T_efcd9_row8_col6, #T_efcd9_row8_col7, #T_efcd9_row9_col0, #T_efcd9_row9_col1, #T_efcd9_row9_col2, #T_efcd9_row9_col4, #T_efcd9_row9_col6, #T_efcd9_row10_col0, #T_efcd9_row10_col1, #T_efcd9_row10_col2, #T_efcd9_row10_col3, #T_efcd9_row10_col4, #T_efcd9_row10_col5, #T_efcd9_row10_col6, #T_efcd9_row10_col7, #T_efcd9_row11_col0, #T_efcd9_row11_col1, #T_efcd9_row11_col2, #T_efcd9_row11_col3, #T_efcd9_row11_col4, #T_efcd9_row11_col5, #T_efcd9_row11_col6, #T_efcd9_row11_col7, #T_efcd9_row12_col0, #T_efcd9_row12_col1, #T_efcd9_row12_col2, #T_efcd9_row12_col3, #T_efcd9_row12_col4, #T_efcd9_row12_col5, #T_efcd9_row12_col6, #T_efcd9_row12_col7, #T_efcd9_row13_col0, #T_efcd9_row13_col1, #T_efcd9_row13_col2, #T_efcd9_row13_col3, #T_efcd9_row13_col4, #T_efcd9_row13_col5, #T_efcd9_row13_col6, #T_efcd9_row13_col7 {\n",
       "  text-align: left;\n",
       "}\n",
       "#T_efcd9_row0_col1, #T_efcd9_row0_col2, #T_efcd9_row0_col4, #T_efcd9_row0_col6, #T_efcd9_row9_col3, #T_efcd9_row9_col5, #T_efcd9_row9_col7 {\n",
       "  text-align: left;\n",
       "  background-color: yellow;\n",
       "}\n",
       "#T_efcd9_row0_col8, #T_efcd9_row1_col8, #T_efcd9_row2_col8, #T_efcd9_row3_col8, #T_efcd9_row4_col8, #T_efcd9_row6_col8, #T_efcd9_row7_col8, #T_efcd9_row8_col8, #T_efcd9_row12_col8, #T_efcd9_row13_col8 {\n",
       "  text-align: left;\n",
       "  background-color: lightgrey;\n",
       "}\n",
       "#T_efcd9_row5_col8, #T_efcd9_row9_col8, #T_efcd9_row10_col8, #T_efcd9_row11_col8 {\n",
       "  text-align: left;\n",
       "  background-color: yellow;\n",
       "  background-color: lightgrey;\n",
       "}\n",
       "</style>\n",
       "<table id=\"T_efcd9\">\n",
       "  <thead>\n",
       "    <tr>\n",
       "      <th class=\"blank level0\" >&nbsp;</th>\n",
       "      <th id=\"T_efcd9_level0_col0\" class=\"col_heading level0 col0\" >Model</th>\n",
       "      <th id=\"T_efcd9_level0_col1\" class=\"col_heading level0 col1\" >Accuracy</th>\n",
       "      <th id=\"T_efcd9_level0_col2\" class=\"col_heading level0 col2\" >AUC</th>\n",
       "      <th id=\"T_efcd9_level0_col3\" class=\"col_heading level0 col3\" >Recall</th>\n",
       "      <th id=\"T_efcd9_level0_col4\" class=\"col_heading level0 col4\" >Prec.</th>\n",
       "      <th id=\"T_efcd9_level0_col5\" class=\"col_heading level0 col5\" >F1</th>\n",
       "      <th id=\"T_efcd9_level0_col6\" class=\"col_heading level0 col6\" >Kappa</th>\n",
       "      <th id=\"T_efcd9_level0_col7\" class=\"col_heading level0 col7\" >MCC</th>\n",
       "      <th id=\"T_efcd9_level0_col8\" class=\"col_heading level0 col8\" >TT (Sec)</th>\n",
       "    </tr>\n",
       "  </thead>\n",
       "  <tbody>\n",
       "    <tr>\n",
       "      <th id=\"T_efcd9_level0_row0\" class=\"row_heading level0 row0\" >gbc</th>\n",
       "      <td id=\"T_efcd9_row0_col0\" class=\"data row0 col0\" >Gradient Boosting Classifier</td>\n",
       "      <td id=\"T_efcd9_row0_col1\" class=\"data row0 col1\" >0.8034</td>\n",
       "      <td id=\"T_efcd9_row0_col2\" class=\"data row0 col2\" >0.8418</td>\n",
       "      <td id=\"T_efcd9_row0_col3\" class=\"data row0 col3\" >0.4961</td>\n",
       "      <td id=\"T_efcd9_row0_col4\" class=\"data row0 col4\" >0.6813</td>\n",
       "      <td id=\"T_efcd9_row0_col5\" class=\"data row0 col5\" >0.5730</td>\n",
       "      <td id=\"T_efcd9_row0_col6\" class=\"data row0 col6\" >0.4494</td>\n",
       "      <td id=\"T_efcd9_row0_col7\" class=\"data row0 col7\" >0.4597</td>\n",
       "      <td id=\"T_efcd9_row0_col8\" class=\"data row0 col8\" >0.0990</td>\n",
       "    </tr>\n",
       "    <tr>\n",
       "      <th id=\"T_efcd9_level0_row1\" class=\"row_heading level0 row1\" >ada</th>\n",
       "      <td id=\"T_efcd9_row1_col0\" class=\"data row1 col0\" >Ada Boost Classifier</td>\n",
       "      <td id=\"T_efcd9_row1_col1\" class=\"data row1 col1\" >0.7968</td>\n",
       "      <td id=\"T_efcd9_row1_col2\" class=\"data row1 col2\" >0.8377</td>\n",
       "      <td id=\"T_efcd9_row1_col3\" class=\"data row1 col3\" >0.5091</td>\n",
       "      <td id=\"T_efcd9_row1_col4\" class=\"data row1 col4\" >0.6517</td>\n",
       "      <td id=\"T_efcd9_row1_col5\" class=\"data row1 col5\" >0.5703</td>\n",
       "      <td id=\"T_efcd9_row1_col6\" class=\"data row1 col6\" >0.4400</td>\n",
       "      <td id=\"T_efcd9_row1_col7\" class=\"data row1 col7\" >0.4466</td>\n",
       "      <td id=\"T_efcd9_row1_col8\" class=\"data row1 col8\" >0.0340</td>\n",
       "    </tr>\n",
       "    <tr>\n",
       "      <th id=\"T_efcd9_level0_row2\" class=\"row_heading level0 row2\" >lr</th>\n",
       "      <td id=\"T_efcd9_row2_col0\" class=\"data row2 col0\" >Logistic Regression</td>\n",
       "      <td id=\"T_efcd9_row2_col1\" class=\"data row2 col1\" >0.7961</td>\n",
       "      <td id=\"T_efcd9_row2_col2\" class=\"data row2 col2\" >0.8374</td>\n",
       "      <td id=\"T_efcd9_row2_col3\" class=\"data row2 col3\" >0.5321</td>\n",
       "      <td id=\"T_efcd9_row2_col4\" class=\"data row2 col4\" >0.6402</td>\n",
       "      <td id=\"T_efcd9_row2_col5\" class=\"data row2 col5\" >0.5800</td>\n",
       "      <td id=\"T_efcd9_row2_col6\" class=\"data row2 col6\" >0.4472</td>\n",
       "      <td id=\"T_efcd9_row2_col7\" class=\"data row2 col7\" >0.4512</td>\n",
       "      <td id=\"T_efcd9_row2_col8\" class=\"data row2 col8\" >0.2900</td>\n",
       "    </tr>\n",
       "    <tr>\n",
       "      <th id=\"T_efcd9_level0_row3\" class=\"row_heading level0 row3\" >lightgbm</th>\n",
       "      <td id=\"T_efcd9_row3_col0\" class=\"data row3 col0\" >Light Gradient Boosting Machine</td>\n",
       "      <td id=\"T_efcd9_row3_col1\" class=\"data row3 col1\" >0.7955</td>\n",
       "      <td id=\"T_efcd9_row3_col2\" class=\"data row3 col2\" >0.8314</td>\n",
       "      <td id=\"T_efcd9_row3_col3\" class=\"data row3 col3\" >0.5237</td>\n",
       "      <td id=\"T_efcd9_row3_col4\" class=\"data row3 col4\" >0.6413</td>\n",
       "      <td id=\"T_efcd9_row3_col5\" class=\"data row3 col5\" >0.5759</td>\n",
       "      <td id=\"T_efcd9_row3_col6\" class=\"data row3 col6\" >0.4431</td>\n",
       "      <td id=\"T_efcd9_row3_col7\" class=\"data row3 col7\" >0.4475</td>\n",
       "      <td id=\"T_efcd9_row3_col8\" class=\"data row3 col8\" >0.1220</td>\n",
       "    </tr>\n",
       "    <tr>\n",
       "      <th id=\"T_efcd9_level0_row4\" class=\"row_heading level0 row4\" >ridge</th>\n",
       "      <td id=\"T_efcd9_row4_col0\" class=\"data row4 col0\" >Ridge Classifier</td>\n",
       "      <td id=\"T_efcd9_row4_col1\" class=\"data row4 col1\" >0.7951</td>\n",
       "      <td id=\"T_efcd9_row4_col2\" class=\"data row4 col2\" >0.0000</td>\n",
       "      <td id=\"T_efcd9_row4_col3\" class=\"data row4 col3\" >0.4602</td>\n",
       "      <td id=\"T_efcd9_row4_col4\" class=\"data row4 col4\" >0.6655</td>\n",
       "      <td id=\"T_efcd9_row4_col5\" class=\"data row4 col5\" >0.5431</td>\n",
       "      <td id=\"T_efcd9_row4_col6\" class=\"data row4 col6\" >0.4169</td>\n",
       "      <td id=\"T_efcd9_row4_col7\" class=\"data row4 col7\" >0.4292</td>\n",
       "      <td id=\"T_efcd9_row4_col8\" class=\"data row4 col8\" >0.0060</td>\n",
       "    </tr>\n",
       "    <tr>\n",
       "      <th id=\"T_efcd9_level0_row5\" class=\"row_heading level0 row5\" >lda</th>\n",
       "      <td id=\"T_efcd9_row5_col0\" class=\"data row5 col0\" >Linear Discriminant Analysis</td>\n",
       "      <td id=\"T_efcd9_row5_col1\" class=\"data row5 col1\" >0.7874</td>\n",
       "      <td id=\"T_efcd9_row5_col2\" class=\"data row5 col2\" >0.8233</td>\n",
       "      <td id=\"T_efcd9_row5_col3\" class=\"data row5 col3\" >0.4962</td>\n",
       "      <td id=\"T_efcd9_row5_col4\" class=\"data row5 col4\" >0.6272</td>\n",
       "      <td id=\"T_efcd9_row5_col5\" class=\"data row5 col5\" >0.5530</td>\n",
       "      <td id=\"T_efcd9_row5_col6\" class=\"data row5 col6\" >0.4162</td>\n",
       "      <td id=\"T_efcd9_row5_col7\" class=\"data row5 col7\" >0.4217</td>\n",
       "      <td id=\"T_efcd9_row5_col8\" class=\"data row5 col8\" >0.0050</td>\n",
       "    </tr>\n",
       "    <tr>\n",
       "      <th id=\"T_efcd9_level0_row6\" class=\"row_heading level0 row6\" >rf</th>\n",
       "      <td id=\"T_efcd9_row6_col0\" class=\"data row6 col0\" >Random Forest Classifier</td>\n",
       "      <td id=\"T_efcd9_row6_col1\" class=\"data row6 col1\" >0.7826</td>\n",
       "      <td id=\"T_efcd9_row6_col2\" class=\"data row6 col2\" >0.8121</td>\n",
       "      <td id=\"T_efcd9_row6_col3\" class=\"data row6 col3\" >0.4900</td>\n",
       "      <td id=\"T_efcd9_row6_col4\" class=\"data row6 col4\" >0.6126</td>\n",
       "      <td id=\"T_efcd9_row6_col5\" class=\"data row6 col5\" >0.5441</td>\n",
       "      <td id=\"T_efcd9_row6_col6\" class=\"data row6 col6\" >0.4038</td>\n",
       "      <td id=\"T_efcd9_row6_col7\" class=\"data row6 col7\" >0.4083</td>\n",
       "      <td id=\"T_efcd9_row6_col8\" class=\"data row6 col8\" >0.0770</td>\n",
       "    </tr>\n",
       "    <tr>\n",
       "      <th id=\"T_efcd9_level0_row7\" class=\"row_heading level0 row7\" >et</th>\n",
       "      <td id=\"T_efcd9_row7_col0\" class=\"data row7 col0\" >Extra Trees Classifier</td>\n",
       "      <td id=\"T_efcd9_row7_col1\" class=\"data row7 col1\" >0.7769</td>\n",
       "      <td id=\"T_efcd9_row7_col2\" class=\"data row7 col2\" >0.7913</td>\n",
       "      <td id=\"T_efcd9_row7_col3\" class=\"data row7 col3\" >0.4931</td>\n",
       "      <td id=\"T_efcd9_row7_col4\" class=\"data row7 col4\" >0.5967</td>\n",
       "      <td id=\"T_efcd9_row7_col5\" class=\"data row7 col5\" >0.5396</td>\n",
       "      <td id=\"T_efcd9_row7_col6\" class=\"data row7 col6\" >0.3942</td>\n",
       "      <td id=\"T_efcd9_row7_col7\" class=\"data row7 col7\" >0.3975</td>\n",
       "      <td id=\"T_efcd9_row7_col8\" class=\"data row7 col8\" >0.0630</td>\n",
       "    </tr>\n",
       "    <tr>\n",
       "      <th id=\"T_efcd9_level0_row8\" class=\"row_heading level0 row8\" >knn</th>\n",
       "      <td id=\"T_efcd9_row8_col0\" class=\"data row8 col0\" >K Neighbors Classifier</td>\n",
       "      <td id=\"T_efcd9_row8_col1\" class=\"data row8 col1\" >0.7661</td>\n",
       "      <td id=\"T_efcd9_row8_col2\" class=\"data row8 col2\" >0.7422</td>\n",
       "      <td id=\"T_efcd9_row8_col3\" class=\"data row8 col3\" >0.4410</td>\n",
       "      <td id=\"T_efcd9_row8_col4\" class=\"data row8 col4\" >0.5776</td>\n",
       "      <td id=\"T_efcd9_row8_col5\" class=\"data row8 col5\" >0.4996</td>\n",
       "      <td id=\"T_efcd9_row8_col6\" class=\"data row8 col6\" >0.3508</td>\n",
       "      <td id=\"T_efcd9_row8_col7\" class=\"data row8 col7\" >0.3564</td>\n",
       "      <td id=\"T_efcd9_row8_col8\" class=\"data row8 col8\" >0.2280</td>\n",
       "    </tr>\n",
       "    <tr>\n",
       "      <th id=\"T_efcd9_level0_row9\" class=\"row_heading level0 row9\" >qda</th>\n",
       "      <td id=\"T_efcd9_row9_col0\" class=\"data row9 col0\" >Quadratic Discriminant Analysis</td>\n",
       "      <td id=\"T_efcd9_row9_col1\" class=\"data row9 col1\" >0.7554</td>\n",
       "      <td id=\"T_efcd9_row9_col2\" class=\"data row9 col2\" >0.8274</td>\n",
       "      <td id=\"T_efcd9_row9_col3\" class=\"data row9 col3\" >0.7484</td>\n",
       "      <td id=\"T_efcd9_row9_col4\" class=\"data row9 col4\" >0.5280</td>\n",
       "      <td id=\"T_efcd9_row9_col5\" class=\"data row9 col5\" >0.6187</td>\n",
       "      <td id=\"T_efcd9_row9_col6\" class=\"data row9 col6\" >0.4466</td>\n",
       "      <td id=\"T_efcd9_row9_col7\" class=\"data row9 col7\" >0.4618</td>\n",
       "      <td id=\"T_efcd9_row9_col8\" class=\"data row9 col8\" >0.0050</td>\n",
       "    </tr>\n",
       "    <tr>\n",
       "      <th id=\"T_efcd9_level0_row10\" class=\"row_heading level0 row10\" >nb</th>\n",
       "      <td id=\"T_efcd9_row10_col0\" class=\"data row10 col0\" >Naive Bayes</td>\n",
       "      <td id=\"T_efcd9_row10_col1\" class=\"data row10 col1\" >0.7436</td>\n",
       "      <td id=\"T_efcd9_row10_col2\" class=\"data row10 col2\" >0.8191</td>\n",
       "      <td id=\"T_efcd9_row10_col3\" class=\"data row10 col3\" >0.7324</td>\n",
       "      <td id=\"T_efcd9_row10_col4\" class=\"data row10 col4\" >0.5121</td>\n",
       "      <td id=\"T_efcd9_row10_col5\" class=\"data row10 col5\" >0.6023</td>\n",
       "      <td id=\"T_efcd9_row10_col6\" class=\"data row10 col6\" >0.4219</td>\n",
       "      <td id=\"T_efcd9_row10_col7\" class=\"data row10 col7\" >0.4370</td>\n",
       "      <td id=\"T_efcd9_row10_col8\" class=\"data row10 col8\" >0.0050</td>\n",
       "    </tr>\n",
       "    <tr>\n",
       "      <th id=\"T_efcd9_level0_row11\" class=\"row_heading level0 row11\" >dummy</th>\n",
       "      <td id=\"T_efcd9_row11_col0\" class=\"data row11 col0\" >Dummy Classifier</td>\n",
       "      <td id=\"T_efcd9_row11_col1\" class=\"data row11 col1\" >0.7347</td>\n",
       "      <td id=\"T_efcd9_row11_col2\" class=\"data row11 col2\" >0.5000</td>\n",
       "      <td id=\"T_efcd9_row11_col3\" class=\"data row11 col3\" >0.0000</td>\n",
       "      <td id=\"T_efcd9_row11_col4\" class=\"data row11 col4\" >0.0000</td>\n",
       "      <td id=\"T_efcd9_row11_col5\" class=\"data row11 col5\" >0.0000</td>\n",
       "      <td id=\"T_efcd9_row11_col6\" class=\"data row11 col6\" >0.0000</td>\n",
       "      <td id=\"T_efcd9_row11_col7\" class=\"data row11 col7\" >0.0000</td>\n",
       "      <td id=\"T_efcd9_row11_col8\" class=\"data row11 col8\" >0.0050</td>\n",
       "    </tr>\n",
       "    <tr>\n",
       "      <th id=\"T_efcd9_level0_row12\" class=\"row_heading level0 row12\" >dt</th>\n",
       "      <td id=\"T_efcd9_row12_col0\" class=\"data row12 col0\" >Decision Tree Classifier</td>\n",
       "      <td id=\"T_efcd9_row12_col1\" class=\"data row12 col1\" >0.7302</td>\n",
       "      <td id=\"T_efcd9_row12_col2\" class=\"data row12 col2\" >0.6618</td>\n",
       "      <td id=\"T_efcd9_row12_col3\" class=\"data row12 col3\" >0.5099</td>\n",
       "      <td id=\"T_efcd9_row12_col4\" class=\"data row12 col4\" >0.4931</td>\n",
       "      <td id=\"T_efcd9_row12_col5\" class=\"data row12 col5\" >0.5007</td>\n",
       "      <td id=\"T_efcd9_row12_col6\" class=\"data row12 col6\" >0.3162</td>\n",
       "      <td id=\"T_efcd9_row12_col7\" class=\"data row12 col7\" >0.3166</td>\n",
       "      <td id=\"T_efcd9_row12_col8\" class=\"data row12 col8\" >0.0070</td>\n",
       "    </tr>\n",
       "    <tr>\n",
       "      <th id=\"T_efcd9_level0_row13\" class=\"row_heading level0 row13\" >svm</th>\n",
       "      <td id=\"T_efcd9_row13_col0\" class=\"data row13 col0\" >SVM - Linear Kernel</td>\n",
       "      <td id=\"T_efcd9_row13_col1\" class=\"data row13 col1\" >0.7075</td>\n",
       "      <td id=\"T_efcd9_row13_col2\" class=\"data row13 col2\" >0.0000</td>\n",
       "      <td id=\"T_efcd9_row13_col3\" class=\"data row13 col3\" >0.4888</td>\n",
       "      <td id=\"T_efcd9_row13_col4\" class=\"data row13 col4\" >0.5530</td>\n",
       "      <td id=\"T_efcd9_row13_col5\" class=\"data row13 col5\" >0.4406</td>\n",
       "      <td id=\"T_efcd9_row13_col6\" class=\"data row13 col6\" >0.2707</td>\n",
       "      <td id=\"T_efcd9_row13_col7\" class=\"data row13 col7\" >0.3161</td>\n",
       "      <td id=\"T_efcd9_row13_col8\" class=\"data row13 col8\" >0.0070</td>\n",
       "    </tr>\n",
       "  </tbody>\n",
       "</table>\n"
      ],
      "text/plain": [
       "<pandas.io.formats.style.Styler at 0x1a886a47f40>"
      ]
     },
     "metadata": {},
     "output_type": "display_data"
    },
    {
     "data": {
      "text/html": [],
      "text/plain": [
       "<IPython.core.display.HTML object>"
      ]
     },
     "metadata": {},
     "output_type": "display_data"
    }
   ],
   "source": [
    "best_model = automl.compare_models()"
   ]
  },
  {
   "cell_type": "code",
   "execution_count": 128,
   "id": "214c6b15",
   "metadata": {},
   "outputs": [
    {
     "data": {
      "application/vnd.jupyter.widget-view+json": {
       "model_id": "78a2952ab479459b85abc602400ffd18",
       "version_major": 2,
       "version_minor": 0
      },
      "text/plain": [
       "interactive(children=(ToggleButtons(description='Plot Type:', icons=('',), options=(('Pipeline Plot', 'pipelin…"
      ]
     },
     "metadata": {},
     "output_type": "display_data"
    }
   ],
   "source": [
    "automl.evaluate_model(best_model)"
   ]
  },
  {
   "cell_type": "code",
   "execution_count": 129,
   "id": "60ee5f3f",
   "metadata": {},
   "outputs": [
    {
     "data": {
      "text/html": [],
      "text/plain": [
       "<IPython.core.display.HTML object>"
      ]
     },
     "metadata": {},
     "output_type": "display_data"
    },
    {
     "data": {
      "image/png": "[encoded data removed]",
      "text/plain": [
       "<Figure size 800x550 with 1 Axes>"
      ]
     },
     "metadata": {},
     "output_type": "display_data"
    }
   ],
   "source": [
    "automl.plot_model(best_model)"
   ]
  },
  {
   "cell_type": "code",
   "execution_count": 130,
   "id": "865ab333",
   "metadata": {},
   "outputs": [
    {
     "data": {
      "text/html": [],
      "text/plain": [
       "<IPython.core.display.HTML object>"
      ]
     },
     "metadata": {},
     "output_type": "display_data"
    },
    {
     "data": {
      "image/png": "[encoded data removed]",
      "text/plain": [
       "<Figure size 800x550 with 1 Axes>"
      ]
     },
     "metadata": {},
     "output_type": "display_data"
    }
   ],
   "source": [
    "automl.plot_model(best_model, plot = 'confusion_matrix')"
   ]
  },
  {
   "cell_type": "code",
   "execution_count": 131,
   "id": "5aa5fd4f",
   "metadata": {},
   "outputs": [
    {
     "data": {
      "text/html": [
       "<style type=\"text/css\">\n",
       "</style>\n",
       "<table id=\"T_dfdb3\">\n",
       "  <thead>\n",
       "    <tr>\n",
       "      <th class=\"blank level0\" >&nbsp;</th>\n",
       "      <th id=\"T_dfdb3_level0_col0\" class=\"col_heading level0 col0\" >Model</th>\n",
       "      <th id=\"T_dfdb3_level0_col1\" class=\"col_heading level0 col1\" >Accuracy</th>\n",
       "      <th id=\"T_dfdb3_level0_col2\" class=\"col_heading level0 col2\" >AUC</th>\n",
       "      <th id=\"T_dfdb3_level0_col3\" class=\"col_heading level0 col3\" >Recall</th>\n",
       "      <th id=\"T_dfdb3_level0_col4\" class=\"col_heading level0 col4\" >Prec.</th>\n",
       "      <th id=\"T_dfdb3_level0_col5\" class=\"col_heading level0 col5\" >F1</th>\n",
       "      <th id=\"T_dfdb3_level0_col6\" class=\"col_heading level0 col6\" >Kappa</th>\n",
       "      <th id=\"T_dfdb3_level0_col7\" class=\"col_heading level0 col7\" >MCC</th>\n",
       "    </tr>\n",
       "  </thead>\n",
       "  <tbody>\n",
       "    <tr>\n",
       "      <th id=\"T_dfdb3_level0_row0\" class=\"row_heading level0 row0\" >0</th>\n",
       "      <td id=\"T_dfdb3_row0_col0\" class=\"data row0 col0\" >Gradient Boosting Classifier</td>\n",
       "      <td id=\"T_dfdb3_row0_col1\" class=\"data row0 col1\" >0.8150</td>\n",
       "      <td id=\"T_dfdb3_row0_col2\" class=\"data row0 col2\" >0.8669</td>\n",
       "      <td id=\"T_dfdb3_row0_col3\" class=\"data row0 col3\" >0.5206</td>\n",
       "      <td id=\"T_dfdb3_row0_col4\" class=\"data row0 col4\" >0.7051</td>\n",
       "      <td id=\"T_dfdb3_row0_col5\" class=\"data row0 col5\" >0.5990</td>\n",
       "      <td id=\"T_dfdb3_row0_col6\" class=\"data row0 col6\" >0.4822</td>\n",
       "      <td id=\"T_dfdb3_row0_col7\" class=\"data row0 col7\" >0.4916</td>\n",
       "    </tr>\n",
       "  </tbody>\n",
       "</table>\n"
      ],
      "text/plain": [
       "<pandas.io.formats.style.Styler at 0x1a8835206d0>"
      ]
     },
     "metadata": {},
     "output_type": "display_data"
    }
   ],
   "source": [
    "predictions = automl.predict_model(best_model, data=df)"
   ]
  },
  {
   "cell_type": "code",
   "execution_count": 132,
   "id": "bb8786e4",
   "metadata": {},
   "outputs": [
    {
     "data": {
      "text/html": [
       "<div>\n",
       "<style scoped>\n",
       "    .dataframe tbody tr th:only-of-type {\n",
       "        vertical-align: middle;\n",
       "    }\n",
       "\n",
       "    .dataframe tbody tr th {\n",
       "        vertical-align: top;\n",
       "    }\n",
       "\n",
       "    .dataframe thead th {\n",
       "        text-align: right;\n",
       "    }\n",
       "</style>\n",
       "<table border=\"1\" class=\"dataframe\">\n",
       "  <thead>\n",
       "    <tr style=\"text-align: right;\">\n",
       "      <th></th>\n",
       "      <th>tenure</th>\n",
       "      <th>PhoneService</th>\n",
       "      <th>Contract</th>\n",
       "      <th>PaymentMethod</th>\n",
       "      <th>MonthlyCharges</th>\n",
       "      <th>TotalCharges</th>\n",
       "      <th>TotalCharges_to_tenure</th>\n",
       "      <th>Churn</th>\n",
       "      <th>prediction_label</th>\n",
       "      <th>prediction_score</th>\n",
       "    </tr>\n",
       "  </thead>\n",
       "  <tbody>\n",
       "    <tr>\n",
       "      <th>0</th>\n",
       "      <td>1</td>\n",
       "      <td>0</td>\n",
       "      <td>0</td>\n",
       "      <td>2</td>\n",
       "      <td>29.850000</td>\n",
       "      <td>29.850000</td>\n",
       "      <td>29.850000</td>\n",
       "      <td>0</td>\n",
       "      <td>1</td>\n",
       "      <td>0.5835</td>\n",
       "    </tr>\n",
       "    <tr>\n",
       "      <th>1</th>\n",
       "      <td>34</td>\n",
       "      <td>1</td>\n",
       "      <td>1</td>\n",
       "      <td>3</td>\n",
       "      <td>56.950001</td>\n",
       "      <td>1889.500000</td>\n",
       "      <td>55.573528</td>\n",
       "      <td>0</td>\n",
       "      <td>0</td>\n",
       "      <td>0.9422</td>\n",
       "    </tr>\n",
       "    <tr>\n",
       "      <th>2</th>\n",
       "      <td>2</td>\n",
       "      <td>1</td>\n",
       "      <td>0</td>\n",
       "      <td>3</td>\n",
       "      <td>53.849998</td>\n",
       "      <td>108.150002</td>\n",
       "      <td>54.075001</td>\n",
       "      <td>1</td>\n",
       "      <td>0</td>\n",
       "      <td>0.6311</td>\n",
       "    </tr>\n",
       "    <tr>\n",
       "      <th>3</th>\n",
       "      <td>45</td>\n",
       "      <td>0</td>\n",
       "      <td>1</td>\n",
       "      <td>0</td>\n",
       "      <td>42.299999</td>\n",
       "      <td>1840.750000</td>\n",
       "      <td>40.905556</td>\n",
       "      <td>0</td>\n",
       "      <td>0</td>\n",
       "      <td>0.9374</td>\n",
       "    </tr>\n",
       "    <tr>\n",
       "      <th>4</th>\n",
       "      <td>2</td>\n",
       "      <td>1</td>\n",
       "      <td>0</td>\n",
       "      <td>2</td>\n",
       "      <td>70.699997</td>\n",
       "      <td>151.649994</td>\n",
       "      <td>75.824997</td>\n",
       "      <td>1</td>\n",
       "      <td>1</td>\n",
       "      <td>0.6574</td>\n",
       "    </tr>\n",
       "  </tbody>\n",
       "</table>\n",
       "</div>"
      ],
      "text/plain": [
       "   tenure  PhoneService  Contract  PaymentMethod  MonthlyCharges  \\\n",
       "0       1             0         0              2       29.850000   \n",
       "1      34             1         1              3       56.950001   \n",
       "2       2             1         0              3       53.849998   \n",
       "3      45             0         1              0       42.299999   \n",
       "4       2             1         0              2       70.699997   \n",
       "\n",
       "   TotalCharges  TotalCharges_to_tenure  Churn  prediction_label  \\\n",
       "0     29.850000               29.850000      0                 1   \n",
       "1   1889.500000               55.573528      0                 0   \n",
       "2    108.150002               54.075001      1                 0   \n",
       "3   1840.750000               40.905556      0                 0   \n",
       "4    151.649994               75.824997      1                 1   \n",
       "\n",
       "   prediction_score  \n",
       "0            0.5835  \n",
       "1            0.9422  \n",
       "2            0.6311  \n",
       "3            0.9374  \n",
       "4            0.6574  "
      ]
     },
     "execution_count": 132,
     "metadata": {},
     "output_type": "execute_result"
    }
   ],
   "source": [
    "predictions.head()"
   ]
  },
  {
   "cell_type": "code",
   "execution_count": 133,
   "id": "647be642",
   "metadata": {},
   "outputs": [
    {
     "name": "stdout",
     "output_type": "stream",
     "text": [
      "Transformation Pipeline and Model Successfully Saved\n"
     ]
    },
    {
     "data": {
      "text/plain": [
       "(Pipeline(memory=Memory(location=None),\n",
       "          steps=[('numerical_imputer',\n",
       "                  TransformerWrapper(exclude=None,\n",
       "                                     include=['tenure', 'PhoneService',\n",
       "                                              'Contract', 'PaymentMethod',\n",
       "                                              'MonthlyCharges', 'TotalCharges',\n",
       "                                              'TotalCharges_to_tenure'],\n",
       "                                     transformer=SimpleImputer(add_indicator=False,\n",
       "                                                               copy=True,\n",
       "                                                               fill_value=None,\n",
       "                                                               keep_empty_features=False,\n",
       "                                                               missing_values=nan,\n",
       "                                                               strategy='mean',\n",
       "                                                               v...\n",
       "                                             criterion='friedman_mse', init=None,\n",
       "                                             learning_rate=0.1, loss='log_loss',\n",
       "                                             max_depth=3, max_features=None,\n",
       "                                             max_leaf_nodes=None,\n",
       "                                             min_impurity_decrease=0.0,\n",
       "                                             min_samples_leaf=1,\n",
       "                                             min_samples_split=2,\n",
       "                                             min_weight_fraction_leaf=0.0,\n",
       "                                             n_estimators=100,\n",
       "                                             n_iter_no_change=None,\n",
       "                                             random_state=2014, subsample=1.0,\n",
       "                                             tol=0.0001, validation_fraction=0.1,\n",
       "                                             verbose=0, warm_start=False))],\n",
       "          verbose=False),\n",
       " 'pycaret_model.pkl')"
      ]
     },
     "execution_count": 133,
     "metadata": {},
     "output_type": "execute_result"
    }
   ],
   "source": [
    "automl.save_model(best_model, 'pycaret_model')"
   ]
  },
  {
   "cell_type": "code",
   "execution_count": 134,
   "id": "a616bcce",
   "metadata": {},
   "outputs": [
    {
     "name": "stdout",
     "output_type": "stream",
     "text": [
      "Transformation Pipeline and Model Successfully Loaded\n"
     ]
    }
   ],
   "source": [
    "new_pycaret = ClassificationExperiment()\n",
    "loaded_model = new_pycaret.load_model('pycaret_model')"
   ]
  },
  {
   "cell_type": "code",
   "execution_count": 135,
   "id": "35df2f8e",
   "metadata": {},
   "outputs": [],
   "source": [
    "new_data = df.iloc[-2:-1]"
   ]
  },
  {
   "cell_type": "code",
   "execution_count": 136,
   "id": "9d8af647",
   "metadata": {},
   "outputs": [
    {
     "data": {
      "text/html": [
       "<div>\n",
       "<style scoped>\n",
       "    .dataframe tbody tr th:only-of-type {\n",
       "        vertical-align: middle;\n",
       "    }\n",
       "\n",
       "    .dataframe tbody tr th {\n",
       "        vertical-align: top;\n",
       "    }\n",
       "\n",
       "    .dataframe thead th {\n",
       "        text-align: right;\n",
       "    }\n",
       "</style>\n",
       "<table border=\"1\" class=\"dataframe\">\n",
       "  <thead>\n",
       "    <tr style=\"text-align: right;\">\n",
       "      <th></th>\n",
       "      <th>tenure</th>\n",
       "      <th>PhoneService</th>\n",
       "      <th>Contract</th>\n",
       "      <th>PaymentMethod</th>\n",
       "      <th>MonthlyCharges</th>\n",
       "      <th>TotalCharges</th>\n",
       "      <th>TotalCharges_to_tenure</th>\n",
       "      <th>Churn</th>\n",
       "      <th>prediction_label</th>\n",
       "      <th>prediction_score</th>\n",
       "    </tr>\n",
       "  </thead>\n",
       "  <tbody>\n",
       "    <tr>\n",
       "      <th>7041</th>\n",
       "      <td>4</td>\n",
       "      <td>1</td>\n",
       "      <td>0</td>\n",
       "      <td>3</td>\n",
       "      <td>74.400002</td>\n",
       "      <td>306.600006</td>\n",
       "      <td>76.650002</td>\n",
       "      <td>1</td>\n",
       "      <td>0</td>\n",
       "      <td>0.5008</td>\n",
       "    </tr>\n",
       "  </tbody>\n",
       "</table>\n",
       "</div>"
      ],
      "text/plain": [
       "      tenure  PhoneService  Contract  PaymentMethod  MonthlyCharges  \\\n",
       "7041       4             1         0              3       74.400002   \n",
       "\n",
       "      TotalCharges  TotalCharges_to_tenure  Churn  prediction_label  \\\n",
       "7041    306.600006               76.650002      1                 0   \n",
       "\n",
       "      prediction_score  \n",
       "7041            0.5008  "
      ]
     },
     "execution_count": 136,
     "metadata": {},
     "output_type": "execute_result"
    }
   ],
   "source": [
    "new_pycaret.predict_model(loaded_model, new_data)"
   ]
  },
  {
   "cell_type": "code",
   "execution_count": 21,
   "id": "b194353a",
   "metadata": {},
   "outputs": [
    {
     "data": {
      "text/html": [
       "<style>pre { line-height: 125%; }\n",
       "td.linenos .normal { color: inherit; background-color: transparent; padding-left: 5px; padding-right: 5px; }\n",
       "span.linenos { color: inherit; background-color: transparent; padding-left: 5px; padding-right: 5px; }\n",
       "td.linenos .special { color: #000000; background-color: #ffffc0; padding-left: 5px; padding-right: 5px; }\n",
       "span.linenos.special { color: #000000; background-color: #ffffc0; padding-left: 5px; padding-right: 5px; }\n",
       ".output_html .hll { background-color: #ffffcc }\n",
       ".output_html { background: #f8f8f8; }\n",
       ".output_html .c { color: #3D7B7B; font-style: italic } /* Comment */\n",
       ".output_html .err { border: 1px solid #FF0000 } /* Error */\n",
       ".output_html .k { color: #008000; font-weight: bold } /* Keyword */\n",
       ".output_html .o { color: #666666 } /* Operator */\n",
       ".output_html .ch { color: #3D7B7B; font-style: italic } /* Comment.Hashbang */\n",
       ".output_html .cm { color: #3D7B7B; font-style: italic } /* Comment.Multiline */\n",
       ".output_html .cp { color: #9C6500 } /* Comment.Preproc */\n",
       ".output_html .cpf { color: #3D7B7B; font-style: italic } /* Comment.PreprocFile */\n",
       ".output_html .c1 { color: #3D7B7B; font-style: italic } /* Comment.Single */\n",
       ".output_html .cs { color: #3D7B7B; font-style: italic } /* Comment.Special */\n",
       ".output_html .gd { color: #A00000 } /* Generic.Deleted */\n",
       ".output_html .ge { font-style: italic } /* Generic.Emph */\n",
       ".output_html .gr { color: #E40000 } /* Generic.Error */\n",
       ".output_html .gh { color: #000080; font-weight: bold } /* Generic.Heading */\n",
       ".output_html .gi { color: #008400 } /* Generic.Inserted */\n",
       ".output_html .go { color: #717171 } /* Generic.Output */\n",
       ".output_html .gp { color: #000080; font-weight: bold } /* Generic.Prompt */\n",
       ".output_html .gs { font-weight: bold } /* Generic.Strong */\n",
       ".output_html .gu { color: #800080; font-weight: bold } /* Generic.Subheading */\n",
       ".output_html .gt { color: #0044DD } /* Generic.Traceback */\n",
       ".output_html .kc { color: #008000; font-weight: bold } /* Keyword.Constant */\n",
       ".output_html .kd { color: #008000; font-weight: bold } /* Keyword.Declaration */\n",
       ".output_html .kn { color: #008000; font-weight: bold } /* Keyword.Namespace */\n",
       ".output_html .kp { color: #008000 } /* Keyword.Pseudo */\n",
       ".output_html .kr { color: #008000; font-weight: bold } /* Keyword.Reserved */\n",
       ".output_html .kt { color: #B00040 } /* Keyword.Type */\n",
       ".output_html .m { color: #666666 } /* Literal.Number */\n",
       ".output_html .s { color: #BA2121 } /* Literal.String */\n",
       ".output_html .na { color: #687822 } /* Name.Attribute */\n",
       ".output_html .nb { color: #008000 } /* Name.Builtin */\n",
       ".output_html .nc { color: #0000FF; font-weight: bold } /* Name.Class */\n",
       ".output_html .no { color: #880000 } /* Name.Constant */\n",
       ".output_html .nd { color: #AA22FF } /* Name.Decorator */\n",
       ".output_html .ni { color: #717171; font-weight: bold } /* Name.Entity */\n",
       ".output_html .ne { color: #CB3F38; font-weight: bold } /* Name.Exception */\n",
       ".output_html .nf { color: #0000FF } /* Name.Function */\n",
       ".output_html .nl { color: #767600 } /* Name.Label */\n",
       ".output_html .nn { color: #0000FF; font-weight: bold } /* Name.Namespace */\n",
       ".output_html .nt { color: #008000; font-weight: bold } /* Name.Tag */\n",
       ".output_html .nv { color: #19177C } /* Name.Variable */\n",
       ".output_html .ow { color: #AA22FF; font-weight: bold } /* Operator.Word */\n",
       ".output_html .w { color: #bbbbbb } /* Text.Whitespace */\n",
       ".output_html .mb { color: #666666 } /* Literal.Number.Bin */\n",
       ".output_html .mf { color: #666666 } /* Literal.Number.Float */\n",
       ".output_html .mh { color: #666666 } /* Literal.Number.Hex */\n",
       ".output_html .mi { color: #666666 } /* Literal.Number.Integer */\n",
       ".output_html .mo { color: #666666 } /* Literal.Number.Oct */\n",
       ".output_html .sa { color: #BA2121 } /* Literal.String.Affix */\n",
       ".output_html .sb { color: #BA2121 } /* Literal.String.Backtick */\n",
       ".output_html .sc { color: #BA2121 } /* Literal.String.Char */\n",
       ".output_html .dl { color: #BA2121 } /* Literal.String.Delimiter */\n",
       ".output_html .sd { color: #BA2121; font-style: italic } /* Literal.String.Doc */\n",
       ".output_html .s2 { color: #BA2121 } /* Literal.String.Double */\n",
       ".output_html .se { color: #AA5D1F; font-weight: bold } /* Literal.String.Escape */\n",
       ".output_html .sh { color: #BA2121 } /* Literal.String.Heredoc */\n",
       ".output_html .si { color: #A45A77; font-weight: bold } /* Literal.String.Interpol */\n",
       ".output_html .sx { color: #008000 } /* Literal.String.Other */\n",
       ".output_html .sr { color: #A45A77 } /* Literal.String.Regex */\n",
       ".output_html .s1 { color: #BA2121 } /* Literal.String.Single */\n",
       ".output_html .ss { color: #19177C } /* Literal.String.Symbol */\n",
       ".output_html .bp { color: #008000 } /* Name.Builtin.Pseudo */\n",
       ".output_html .fm { color: #0000FF } /* Name.Function.Magic */\n",
       ".output_html .vc { color: #19177C } /* Name.Variable.Class */\n",
       ".output_html .vg { color: #19177C } /* Name.Variable.Global */\n",
       ".output_html .vi { color: #19177C } /* Name.Variable.Instance */\n",
       ".output_html .vm { color: #19177C } /* Name.Variable.Magic */\n",
       ".output_html .il { color: #666666 } /* Literal.Number.Integer.Long */</style><div class=\"highlight\"><pre><span></span><span class=\"kn\">import</span> <span class=\"nn\">pandas</span> <span class=\"k\">as</span> <span class=\"nn\">pd</span>\n",
       "<span class=\"kn\">from</span> <span class=\"nn\">pycaret.classification</span> <span class=\"kn\">import</span> <span class=\"n\">predict_model</span><span class=\"p\">,</span> <span class=\"n\">load_model</span>\n",
       "\n",
       "<span class=\"k\">def</span> <span class=\"nf\">predict_churn</span><span class=\"p\">(</span><span class=\"n\">input_data</span><span class=\"p\">):</span>\n",
       "    <span class=\"c1\"># Load the saved model</span>\n",
       "    <span class=\"n\">loaded_model</span> <span class=\"o\">=</span> <span class=\"n\">load_model</span><span class=\"p\">(</span><span class=\"s1\">&#39;pycaret_model&#39;</span><span class=\"p\">)</span>\n",
       " \n",
       "    <span class=\"n\">input_data</span><span class=\"p\">[</span><span class=\"s1\">&#39;TotalCharges_to_tenure&#39;</span><span class=\"p\">]</span> <span class=\"o\">=</span> <span class=\"n\">input_data</span><span class=\"p\">[</span><span class=\"s1\">&#39;TotalCharges&#39;</span><span class=\"p\">]</span> <span class=\"o\">/</span> <span class=\"n\">input_data</span><span class=\"p\">[</span><span class=\"s1\">&#39;tenure&#39;</span><span class=\"p\">]</span>\n",
       "    \n",
       "    <span class=\"c1\"># Make predictions on the input data</span>\n",
       "    <span class=\"n\">predictions</span> <span class=\"o\">=</span> <span class=\"n\">predict_model</span><span class=\"p\">(</span><span class=\"n\">loaded_model</span><span class=\"p\">,</span> <span class=\"n\">data</span><span class=\"o\">=</span><span class=\"n\">input_data</span><span class=\"p\">)</span>\n",
       "\n",
       "    <span class=\"k\">return</span> <span class=\"n\">predictions</span><span class=\"p\">[</span><span class=\"s1\">&#39;prediction_score&#39;</span><span class=\"p\">]</span>\n",
       "\n",
       "<span class=\"k\">if</span> <span class=\"vm\">__name__</span> <span class=\"o\">==</span> <span class=\"s2\">&quot;__main__&quot;</span><span class=\"p\">:</span>\n",
       "    <span class=\"n\">new_data</span> <span class=\"o\">=</span> <span class=\"n\">pd</span><span class=\"o\">.</span><span class=\"n\">read_csv</span><span class=\"p\">(</span><span class=\"s1\">&#39;new_churn_data.csv&#39;</span><span class=\"p\">)</span> \n",
       "    <span class=\"n\">true_values</span> <span class=\"o\">=</span> <span class=\"p\">[</span><span class=\"mi\">1</span><span class=\"p\">,</span> <span class=\"mi\">0</span><span class=\"p\">,</span> <span class=\"mi\">0</span><span class=\"p\">,</span> <span class=\"mi\">1</span><span class=\"p\">,</span> <span class=\"mi\">0</span><span class=\"p\">]</span>  \n",
       "    <span class=\"n\">churn_probabilities</span> <span class=\"o\">=</span> <span class=\"n\">predict_churn</span><span class=\"p\">(</span><span class=\"n\">new_data</span><span class=\"p\">)</span>\n",
       "    <span class=\"nb\">print</span><span class=\"p\">(</span><span class=\"s2\">&quot;True Values:&quot;</span><span class=\"p\">,</span> <span class=\"n\">true_values</span><span class=\"p\">)</span>\n",
       "    <span class=\"nb\">print</span><span class=\"p\">(</span><span class=\"s2\">&quot;Churn Probabilities:&quot;</span><span class=\"p\">)</span>\n",
       "    <span class=\"nb\">print</span><span class=\"p\">(</span><span class=\"n\">churn_probabilities</span><span class=\"p\">)</span>\n",
       "</pre></div>\n"
      ],
      "text/latex": [
       "\\begin{Verbatim}[commandchars=\\\\\\{\\}]\n",
       "\\PY{k+kn}{import} \\PY{n+nn}{pandas} \\PY{k}{as} \\PY{n+nn}{pd}\n",
       "\\PY{k+kn}{from} \\PY{n+nn}{pycaret}\\PY{n+nn}{.}\\PY{n+nn}{classification} \\PY{k+kn}{import} \\PY{n}{predict\\PYZus{}model}\\PY{p}{,} \\PY{n}{load\\PYZus{}model}\n",
       "\n",
       "\\PY{k}{def} \\PY{n+nf}{predict\\PYZus{}churn}\\PY{p}{(}\\PY{n}{input\\PYZus{}data}\\PY{p}{)}\\PY{p}{:}\n",
       "    \\PY{c+c1}{\\PYZsh{} Load the saved model}\n",
       "    \\PY{n}{loaded\\PYZus{}model} \\PY{o}{=} \\PY{n}{load\\PYZus{}model}\\PY{p}{(}\\PY{l+s+s1}{\\PYZsq{}}\\PY{l+s+s1}{pycaret\\PYZus{}model}\\PY{l+s+s1}{\\PYZsq{}}\\PY{p}{)}\n",
       " \n",
       "    \\PY{n}{input\\PYZus{}data}\\PY{p}{[}\\PY{l+s+s1}{\\PYZsq{}}\\PY{l+s+s1}{TotalCharges\\PYZus{}to\\PYZus{}tenure}\\PY{l+s+s1}{\\PYZsq{}}\\PY{p}{]} \\PY{o}{=} \\PY{n}{input\\PYZus{}data}\\PY{p}{[}\\PY{l+s+s1}{\\PYZsq{}}\\PY{l+s+s1}{TotalCharges}\\PY{l+s+s1}{\\PYZsq{}}\\PY{p}{]} \\PY{o}{/} \\PY{n}{input\\PYZus{}data}\\PY{p}{[}\\PY{l+s+s1}{\\PYZsq{}}\\PY{l+s+s1}{tenure}\\PY{l+s+s1}{\\PYZsq{}}\\PY{p}{]}\n",
       "    \n",
       "    \\PY{c+c1}{\\PYZsh{} Make predictions on the input data}\n",
       "    \\PY{n}{predictions} \\PY{o}{=} \\PY{n}{predict\\PYZus{}model}\\PY{p}{(}\\PY{n}{loaded\\PYZus{}model}\\PY{p}{,} \\PY{n}{data}\\PY{o}{=}\\PY{n}{input\\PYZus{}data}\\PY{p}{)}\n",
       "\n",
       "    \\PY{k}{return} \\PY{n}{predictions}\\PY{p}{[}\\PY{l+s+s1}{\\PYZsq{}}\\PY{l+s+s1}{prediction\\PYZus{}score}\\PY{l+s+s1}{\\PYZsq{}}\\PY{p}{]}\n",
       "\n",
       "\\PY{k}{if} \\PY{n+nv+vm}{\\PYZus{}\\PYZus{}name\\PYZus{}\\PYZus{}} \\PY{o}{==} \\PY{l+s+s2}{\\PYZdq{}}\\PY{l+s+s2}{\\PYZus{}\\PYZus{}main\\PYZus{}\\PYZus{}}\\PY{l+s+s2}{\\PYZdq{}}\\PY{p}{:}\n",
       "    \\PY{n}{new\\PYZus{}data} \\PY{o}{=} \\PY{n}{pd}\\PY{o}{.}\\PY{n}{read\\PYZus{}csv}\\PY{p}{(}\\PY{l+s+s1}{\\PYZsq{}}\\PY{l+s+s1}{new\\PYZus{}churn\\PYZus{}data.csv}\\PY{l+s+s1}{\\PYZsq{}}\\PY{p}{)} \n",
       "    \\PY{n}{true\\PYZus{}values} \\PY{o}{=} \\PY{p}{[}\\PY{l+m+mi}{1}\\PY{p}{,} \\PY{l+m+mi}{0}\\PY{p}{,} \\PY{l+m+mi}{0}\\PY{p}{,} \\PY{l+m+mi}{1}\\PY{p}{,} \\PY{l+m+mi}{0}\\PY{p}{]}  \n",
       "    \\PY{n}{churn\\PYZus{}probabilities} \\PY{o}{=} \\PY{n}{predict\\PYZus{}churn}\\PY{p}{(}\\PY{n}{new\\PYZus{}data}\\PY{p}{)}\n",
       "    \\PY{n+nb}{print}\\PY{p}{(}\\PY{l+s+s2}{\\PYZdq{}}\\PY{l+s+s2}{True Values:}\\PY{l+s+s2}{\\PYZdq{}}\\PY{p}{,} \\PY{n}{true\\PYZus{}values}\\PY{p}{)}\n",
       "    \\PY{n+nb}{print}\\PY{p}{(}\\PY{l+s+s2}{\\PYZdq{}}\\PY{l+s+s2}{Churn Probabilities:}\\PY{l+s+s2}{\\PYZdq{}}\\PY{p}{)}\n",
       "    \\PY{n+nb}{print}\\PY{p}{(}\\PY{n}{churn\\PYZus{}probabilities}\\PY{p}{)}\n",
       "\\end{Verbatim}\n"
      ],
      "text/plain": [
       "import pandas as pd\n",
       "from pycaret.classification import predict_model, load_model\n",
       "\n",
       "def predict_churn(input_data):\n",
       "    # Load the saved model\n",
       "    loaded_model = load_model('pycaret_model')\n",
       " \n",
       "    input_data['TotalCharges_to_tenure'] = input_data['TotalCharges'] / input_data['tenure']\n",
       "    \n",
       "    # Make predictions on the input data\n",
       "    predictions = predict_model(loaded_model, data=input_data)\n",
       "\n",
       "    return predictions['prediction_score']\n",
       "\n",
       "if __name__ == \"__main__\":\n",
       "    new_data = pd.read_csv('new_churn_data.csv') \n",
       "    true_values = [1, 0, 0, 1, 0]  \n",
       "    churn_probabilities = predict_churn(new_data)\n",
       "    print(\"True Values:\", true_values)\n",
       "    print(\"Churn Probabilities:\")\n",
       "    print(churn_probabilities)"
      ]
     },
     "execution_count": 21,
     "metadata": {},
     "output_type": "execute_result"
    }
   ],
   "source": [
    "from IPython.display import Code\n",
    "Code('predict_churn.py')"
   ]
  },
  {
   "cell_type": "code",
   "execution_count": 22,
   "id": "9c85ee12",
   "metadata": {},
   "outputs": [
    {
     "name": "stdout",
     "output_type": "stream",
     "text": [
      "Transformation Pipeline and Model Successfully Loaded\n",
      "True Values: [1, 0, 0, 1, 0]\n",
      "Churn Probabilities:\n",
      "0    0.5042\n",
      "1    0.8151\n",
      "2    0.8700\n",
      "3    0.8113\n",
      "4    0.5940\n",
      "Name: prediction_score, dtype: float64\n"
     ]
    }
   ],
   "source": [
    "%run predict_churn.py"
   ]
  },
  {
   "cell_type": "markdown",
   "id": "d2337741",
   "metadata": {},
   "source": [
    "# Summary\n",
    "In this project, I utilized PyCaret to explore various machine learning algorithms for churn prediction on prepared churn dataset. After evaluating different models, I selected the best-performing model based on accuracy as the chosen metric. I believe that this metric provides a comprehensive assessment of the model's performance and its practical impact on churn prediction efforts. This model was then saved to disk for future use. I also created a Python script/module with the predict_churn function, which takes a Pandas DataFrame as input and returns the probability of churn for each row. Finally, I tested the script with new data (new_churn_data.csv) and printed the churn probabilities for each entry.\n",
    "Upon running the prediction module with the new data, I obtained the following results:\n",
    "\n",
    "The model loaded successfully, indicating that the saved model was correctly loaded from disk.\n",
    "\n",
    "The true values for the new data are [1, 0, 0, 1, 0], representing whether each customer churned or not.\n",
    "\n",
    "The churn probabilities were calculated for each customer in the new data using the loaded model. The probabilities ranged from approximately 0.5042 to 0.8700, indicating the likelihood of churn for each customer.\n",
    "\n",
    "In conclusion, the project successfully utilized PyCaret for churn prediction, saved the best model, and created a Python module for making predictions on new data. The provided probabilities can be used to assess the likelihood of churn for new customers."
   ]
  },
  {
   "cell_type": "code",
   "execution_count": null,
   "id": "1d12c590",
   "metadata": {},
   "outputs": [],
   "source": []
  }
 ],
 "metadata": {
  "kernelspec": {
   "display_name": "MyPyCaretEnv",
   "language": "python",
   "name": "yourenvname"
  },
  "language_info": {
   "codemirror_mode": {
    "name": "ipython",
    "version": 3
   },
   "file_extension": ".py",
   "mimetype": "text/x-python",
   "name": "python",
   "nbconvert_exporter": "python",
   "pygments_lexer": "ipython3",
   "version": "3.10.13"
  }
 },
 "nbformat": 4,
 "nbformat_minor": 5
}
